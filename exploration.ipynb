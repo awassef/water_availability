{
 "cells": [
  {
   "cell_type": "markdown",
   "metadata": {},
   "source": [
    "# Understanding the Problem \n",
    "\n",
    "From: [Kaggle Competition Description](https://www.kaggle.com/c/acea-water-prediction)\n",
    "\n",
    "Acea group is a leading Italian multiutility operator. Acea operates several utility networks, one of them being water utilities. \n",
    "\n",
    "Acea needs to preserve their waterbodies, and thus needs to forecast the water level in a waterbody to handle daily consumption. During Fall and Winter waterbodies are refilled, but during Spring and Summer they drain. To preserve the health of these waterbodies it is important to rpedict the most efficient water availability, in terms of level and water flow for each day of the year.\n",
    "\n",
    "# Data\n",
    "\n",
    "We are provided with several datasets. Each dataset is for a different type of waterbody and has different features. There are 9 datasets in total, and four types of waterbodies we will be looking at (aquifer, water springs, rivers, lakes). \n",
    "\n",
    "We can start by loading in one of the aquifer datasets and takiong a look at what features we are given."
   ]
  },
  {
   "cell_type": "code",
   "execution_count": 44,
   "metadata": {},
   "outputs": [
    {
     "name": "stdout",
     "output_type": "stream",
     "text": [
      "Index(['Date', 'Rainfall_Bastia_Umbra', 'Depth_to_Groundwater_P24',\n",
      "       'Depth_to_Groundwater_P25', 'Temperature_Bastia_Umbra',\n",
      "       'Temperature_Petrignano', 'Volume_C10_Petrignano',\n",
      "       'Hydrometry_Fiume_Chiascio_Petrignano'],\n",
      "      dtype='object')\n"
     ]
    }
   ],
   "source": [
    "import pandas as pd\n",
    "import matplotlib.pyplot as plt\n",
    "\n",
    "from datetime import datetime\n",
    "\n",
    "# Load aquifer datasets\n",
    "#auser = pd.read_csv('../data/Aquifer_Auser.csv')\n",
    "#doganella = pd.read_csv('../data/Aquifer_Doganella.csv')\n",
    "#luco = pd.read_csv('../data/Aquifer_Luco.csv')\n",
    "petrignano_orig = pd.read_csv('../data/Aquifer_Petrignano.csv') # original data\n",
    "petrignano = petrignano_orig # data which we will manipulate\n",
    "\n",
    "# Print the features for the auser aquifer\n",
    "print(petrignano_orig.columns)"
   ]
  },
  {
   "attachments": {},
   "cell_type": "markdown",
   "metadata": {},
   "source": [
    "That is a whole lot of features. Luckily, we don't have to figure out what each one of these columns means. We've been given a table summarizing what each of the features means. I've summarized it here:\n",
    "\n",
    "\n",
    "| Field        | Format           |\n",
    "| :-------------:|:-------------:|\n",
    "| Date | Identifies a unique day\n",
    "| Rainfall_X   |    Indicates the quantity of rain falling, expressed in millimeters (mm), in the area X\n",
    "| Depth_to_Groundwater_Y | Indicates the groundwater level, expressed in ground level (meters from the ground floor), detected by the piezometer Y   \n",
    "| Temperature_Z | Indicates the temperature, expressed in degrees celsius, detected by thermometric station Z\n",
    "| Volume_K | Indicates the volume of water, expressed in cubic meters taken from drinking water treatment plant K\n",
    "| Hydrometry_H | Indicates the groundwater level, expressed in meters detected by hydrometric station K"
   ]
  },
  {
   "cell_type": "code",
   "execution_count": 45,
   "metadata": {},
   "outputs": [],
   "source": [
    "# Convert date to date objects\n",
    "petrignano['Date'] = petrignano['Date'].apply(lambda date: datetime.strptime(date, '%d/%m/%Y').date())"
   ]
  },
  {
   "cell_type": "code",
   "execution_count": 50,
   "metadata": {},
   "outputs": [
    {
     "data": {
      "image/png": "[encoded data removed]",
      "text/plain": [
       "<Figure size 432x288 with 1 Axes>"
      ]
     },
     "metadata": {
      "needs_background": "light"
     },
     "output_type": "display_data"
    }
   ],
   "source": [
    "plt.xlabel('Date')\n",
    "plt.ylabel('Rainfall (mm)')\n",
    "plt.title('Rainfall in Bastia Umbra')\n",
    "plt.plot(petrignano['Date'], petrignano['Rainfall_Bastia_Umbra'])\n",
    "plt.show()"
   ]
  },
  {
   "cell_type": "code",
   "execution_count": null,
   "metadata": {},
   "outputs": [],
   "source": []
  }
 ],
 "metadata": {
  "kernelspec": {
   "display_name": "Python 3",
   "language": "python",
   "name": "python3"
  },
  "language_info": {
   "codemirror_mode": {
    "name": "ipython",
    "version": 3
   },
   "file_extension": ".py",
   "mimetype": "text/x-python",
   "name": "python",
   "nbconvert_exporter": "python",
   "pygments_lexer": "ipython3",
   "version": "3.8.2"
  }
 },
 "nbformat": 4,
 "nbformat_minor": 4
}
